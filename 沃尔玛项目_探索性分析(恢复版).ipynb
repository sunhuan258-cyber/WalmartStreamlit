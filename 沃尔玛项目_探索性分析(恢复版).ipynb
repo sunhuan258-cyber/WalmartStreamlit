{
 "cells": [
  {
   "cell_type": "markdown",
   "metadata": {},
   "source": [
    "# 沃尔玛销售额预测：探索性分析与经典模型实验 (恢复版)\n",
    "\n",
    "**目标**: 本笔记本旨在恢复在`沃尔玛项目.ipynb`中进行的探索性数据分析（EDA）和经典时间序列模型（ARIMA, SARIMAX, Prophet）的实验。这些内容是构建最终机器学习模型的基础。"
   ]
  },
  {
   "cell_type": "code",
   "execution_count": 1,
   "id": "7b35a2dd-7c9f-4bee-bd75-4c0f18cb55ff",
   "metadata": {},
   "outputs": [],
   "source": [
    "import pandas as pd\n",
    "\n",
    "# 注意：请根据您的实际文件路径修改\n",
    "train_path = r'C:/Users/Administrator/Desktop/沃尔玛项目/train.csv'\n",
    "stores_path = r'C:/Users/Administrator/Desktop/沃尔玛项目/stores.csv'\n",
    "features_path = r'C:/Users/Administrator/Desktop/沃尔玛项目/features.csv'\n",
    "\n",
    "train_df = pd.read_csv(train_path)\n",
    "stores_df = pd.read_csv(stores_path)\n",
    "features_df = pd.read_csv(features_path)\n",
    "\n",
    "print(\"预览核心训练数据前五行\")\n",
    "print(train_df.head())\n",
    "print(\"\n核心数据信息\")\n",
    "train_df.info()"
   ]
  },
  {
   "cell_type": "markdown",
   "metadata": {},
   "source": [
    "## 1. 数据清洗与预处理"
   ]
  },
  {
   "cell_type": "code",
   "execution_count": 2,
   "id": "75ec7f7c-dba5-465b-bf8b-804864938c88",
   "metadata": {},
   "outputs": [],
   "source": [
    "print(\"将Date列转换为datetime对象...\")\n",
    "train_df['Date'] = pd.to_datetime(train_df['Date'], format='%Y-%m-%d')\n",
    "features_df['Date'] = pd.to_datetime(features_df['Date'], format='%Y-%m-%d')\n",
    "print(\"转换完成。\")"
   ]
  },
  {
   "cell_type": "code",
   "execution_count": 3,
   "id": "3f605273-fd1d-4e15-a39b-5061855f1c54",
   "metadata": {},
   "outputs": [],
   "source": [
    "print(\"检查并处理负销售额数据...\")\n",
    "negative_sales_df = train_df[train_df['Weekly_Sales'] < 0]\n",
    "print(f\"侦察报告：我们总共发现了 {len(negative_sales_df)} 条负消费数据。\")\n",
    "if not negative_sales_df.empty:\n",
    "    print(\"负消费数据统计摘要:\")\n",
    "    print(negative_sales_df['Weekly_Sales'].describe())\n",
    "    train_df = train_df[train_df['Weekly_Sales'] >= 0]\n",
    "    print(f\"\n已清理负销售额数据，剩余 {len(train_df)} 条记录。\")"
   ]
  },
  {
   "cell_type": "code",
   "execution_count": 7,
   "id": "077ae37e-c452-427e-b454-25d8eb0b0543",
   "metadata": {},
   "outputs": [],
   "source": [
    "print(\"合并所有数据源...\")\n",
    "df_merged = pd.merge(train_df, stores_df, on='Store', how='left')\n",
    "final_df = pd.merge(df_merged, features_df, on=['Store', 'Date', 'IsHoliday'], how='left')\n",
    "\n",
    "print(\"处理缺失值 (MarkDowns)...\")\n",
    "markdown_cols = ['MarkDown1', 'MarkDown2', 'MarkDown3', 'MarkDown4', 'MarkDown5']\n",
    "final_df[markdown_cols] = final_df[markdown_cols].fillna(0)\n",
    "\n",
    "print(\"对'Type'列进行独热编码...\")\n",
    "final_df_encoded = pd.get_dummies(final_df, columns=['Type'], drop_first=True)\n",
    "\n",
    "print(\"最终数据集信息:\")\n",
    "final_df_encoded.info()"
   ]
  },
  {
   "cell_type": "markdown",
   "metadata": {},
   "source": [
    "## 2. 探索性数据分析 (EDA)"
   ]
  },
  {
   "cell_type": "code",
   "execution_count": 5,
   "id": "00c7ee7a-5320-4352-aa2c-197c402c9538",
   "metadata": {},
   "outputs": [],
   "source": [
    "import matplotlib.pyplot as plt\n",
    "import seaborn as sns\n",
    "\n",
    "plt.rcParams['font.sans-serif'] = ['SimHei']\n",
    "plt.rcParams['axes.unicode_minus'] = False\n",
    "\n",
    "print(\"绘制沃尔玛总体销售额时间序列图...\")\n",
    "weekly_sales_sum = final_df_encoded[['Date', 'Weekly_Sales']].groupby('Date').sum().reset_index()\n",
    "\n",
    "plt.figure(figsize=(20, 8))\n",
    "plt.plot(weekly_sales_sum['Date'], weekly_sales_sum['Weekly_Sales'])\n",
    "plt.title('沃尔玛销售额时间序列图 (2010-2012)', fontsize=20)\n",
    "plt.xlabel('日期', fontsize=15)\n",
    "plt.ylabel('总销售额（千万美元)', fontsize=15)\n",
    "plt.grid(True)\n",
    "plt.show()"
   ]
  },
  {
   "cell_type": "code",
   "execution_count": 6,
   "id": "46dbdc98-f045-4851-9d09-4a2971cb4e8c",
   "metadata": {},
   "outputs": [],
   "source": [
    "from statsmodels.tsa.seasonal import seasonal_decompose\n",
    "\n",
    "print(\"进行时间序列分解...\")\n",
    "time_series_data = weekly_sales_sum.set_index('Date')['Weekly_Sales']\n",
    "decomposition = seasonal_decompose(time_series_data, model='additive', period=52)\n",
    "\n",
    "fig = decomposition.plot()\n",
    "fig.set_size_inches(15, 10)\n",
    "fig.suptitle('时间序列分解诊断图', fontsize=20, y=1.02)\n",
    "plt.tight_layout()\n",
    "plt.show()"
   ]
  },
  {
   "cell_type": "markdown",
   "metadata": {},
   "source": [
    "## 3. 经典时间序列模型实验\n",
    "\n",
    "我们将以1号店铺 (Store 1) 的数据为例，进行 `ARIMA`, `SARIMAX`, 和 `Prophet` 模型的实验。"
   ]
  },
  {
   "cell_type": "code",
   "execution_count": 11,
   "id": "d0c155da-27a5-423a-a352-f4ad1f77a886",
   "metadata": {},
   "outputs": [],
   "source": [
    "from statsmodels.tsa.arima.model import ARIMA\n",
    "\n",
    "print(\"为1号店铺准备数据...\")\n",
    "store1_df = final_df_encoded[final_df_encoded['Store'] == 1]\n",
    "store1_sales = store1_df.groupby('Date')['Weekly_Sales'].sum()\n",
    "\n",
    "print(\"\n--- 正在训练ARIMA(5,1,0)模型... ---")\n",
    "model_arima = ARIMA(store1_sales, order=(5, 1, 0))\n",
    "model_arima_fit = model_arima.fit()\n",
    "print(\"\n--- ARIMA模型诊断摘要 ---")\n",
    "print(model_arima_fit.summary())\n",
    "\n",
    "print(\"\n--- 绘制ARIMA预测图... ---")\n",
    "forecast_arima = model_arima_fit.forecast(steps=52)\n",
    "plt.figure(figsize=(20, 8))\n",
    "plt.plot(store1_sales.index, store1_sales.values, label=\"真实销售额\")\n",
    "plt.plot(forecast_arima.index, forecast_arima.values, label='ARIMA预测销售额', color='red')\n",
    "plt.title('1号店铺销售额：真实值 vs ARIMA预测值', fontsize=20)\n",
    "plt.xlabel('日期', fontsize=15)\n",
    "plt.ylabel('总销售额', fontsize=15)\n",
    "plt.legend()\n",
    "plt.grid(True)\n",
    "plt.show()"
   ]
  },
  {
   "cell_type": "code",
   "execution_count": 12,
   "id": "bb85c989-38ad-47ed-af41-0f968542b269",
   "metadata": {},
   "outputs": [],
   "source": [
    "from statsmodels.tsa.statespace.sarimax import SARIMAX\n",
    "\n",
    "print(\"\n--- 正在训练SARIMAX(5,1,0)x(1,1,0,52)模型... ---")\n",
    "model_sarima = SARIMAX(store1_sales, order=(5, 1, 0), seasonal_order=(1, 1, 0, 52))\n",
    "model_sarima_fit = model_sarima.fit(disp=False)\n",
    "print(\"\n--- SARIMAX模型诊断摘要 ---")\n",
    "print(model_sarima_fit.summary())\n",
    "\n",
    "print(\"\n--- 绘制SARIMAX预测图... ---")\n",
    "forecast_sarima = model_sarima_fit.forecast(52)\n",
    "plt.figure(figsize=(20, 8))\n",
    "plt.plot(store1_sales.index, store1_sales.values, label='真实销售额')\n",
    "plt.plot(forecast_sarima.index, forecast_sarima.values, label='SARIMAX预测销售额', color='red')\n",
    "plt.title('1号店铺销售额：真实值 VS SARIMAX预测值', fontsize=20)\n",
    "plt.xlabel('日期', fontsize=15)\n",
    "plt.ylabel('总销售额', fontsize=15)\n",
    "plt.legend()\n",
    "plt.grid(True)\n",
    "plt.show()"
   ]
  },
  {
   "cell_type": "code",
   "execution_count": 17,
   "id": "366ea38a-39df-4066-a547-82d8ac247017",
   "metadata": {},
   "outputs": [],
   "source": [
    "from prophet import Prophet\n",
    "\n",
    "print(\"为Prophet准备数据...\")\n",
    "store1_sales_prophet = store1_sales.reset_index()\n",
    "store1_sales_prophet.rename(columns={'Date': 'ds', 'Weekly_Sales': 'y'}, inplace=True)\n",
    "\n",
    "holidays_list = [
",
    "    {'holiday': 'SuperBowl', 'ds': '2010-02-12'}, {'holiday': 'SuperBowl', 'ds': '2011-02-11'}, {'holiday': 'SuperBowl', 'ds': '2012-02-10'},
",
    "    {'holiday': 'LaborDay', 'ds': '2010-09-10'}, {'holiday': 'LaborDay', 'ds': '2011-09-09'}, {'holiday': 'LaborDay', 'ds': '2012-09-07'},
",
    "    {'holiday': 'Thanksgiving', 'ds': '2010-11-26'}, {'holiday': 'Thanksgiving', 'ds': '2011-11-25'},
",
    "    {'holiday': 'Christmas', 'ds': '2010-12-31'}, {'holiday': 'Christmas', 'ds': '2011-12-30'},
",
    "    ]\n",
    "holidays_df = pd.DataFrame(holidays_list)\n",
    "holidays_df['ds'] = pd.to_datetime(holidays_df['ds'])\n",
    "\n",
    "print(\"\n--- 正在训练装备了“节假日瞄准镜”的Prophet模型... ---")\n",
    "model_prophet_with_holidays = Prophet(holidays=holidays_df, interval_width=0.95)\n",
    "model_prophet_with_holidays.fit(store1_sales_prophet)\n",
    "future = model_prophet_with_holidays.make_future_dataframe(periods=52, freq='W')\n",
    "forecast_with_holidays = model_prophet_with_holidays.predict(future)\n",
    "\n",
    "print(\"\n--- 正在绘制新模型的预测图... ---")\n",
    "fig1 = model_prophet_with_holidays.plot(forecast_with_holidays)\n",
    "plt.title('1号店铺销售额：Prophet预测 (已加入节假日信息)', fontsize=20)\n",
    "plt.xlabel('日期', fontsize=15)\n",
    "plt.ylabel('销售额', fontsize=15)\n",
    "plt.show()\n",
    "\n",
    "print(\"\n--- 正在绘制成分解图... ---")\n",
    "fig2 = model_prophet_with_holidays.plot_components(forecast_with_holidays)\n",
    "plt.show()"
   ]
  },
  {
   "cell_type": "markdown",
   "metadata": {},
   "source": [
    "## 4. 结论\n",
    "\n",
    "本笔记本恢复了项目早期的探索性分析。结果表明，`SARIMAX` 在经典时序模型中表现最佳，但其预测能力仍有局限。这些探索，为后续采用更复杂的`LightGBM`和`LSTM`等机器学习模型，并进行高级特征工程，提供了充分的理由和依据。"
   ]
  }
 ],
 "metadata": {
  "kernelspec": {
   "display_name": "Python 3 (ipykernel)",
   "language": "python",
   "name": "python3"
  },
  "language_info": {
   "codemirror_mode": {
    "name": "ipython",
    "version": 3
   },
   "file_extension": ".py",
   "mimetype": "text/x-python",
   "name": "python",
   "nbconvert_exporter": "python",
   "pygments_lexer": "ipython3",
   "version": "3.13.2"
  }
 },
 "nbformat": 4,
 "nbformat_minor": 5
}
